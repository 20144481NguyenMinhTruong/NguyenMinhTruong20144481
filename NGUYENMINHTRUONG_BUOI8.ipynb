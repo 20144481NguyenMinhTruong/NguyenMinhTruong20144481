{
  "nbformat": 4,
  "nbformat_minor": 0,
  "metadata": {
    "colab": {
      "provenance": [],
      "collapsed_sections": [],
      "authorship_tag": "ABX9TyPuimAlF0UeLMFj0AYm/KJM",
      "include_colab_link": true
    },
    "kernelspec": {
      "name": "python3",
      "display_name": "Python 3"
    },
    "language_info": {
      "name": "python"
    }
  },
  "cells": [
    {
      "cell_type": "markdown",
      "metadata": {
        "id": "view-in-github",
        "colab_type": "text"
      },
      "source": [
        "<a href=\"https://colab.research.google.com/github/20144481NguyenMinhTruong/NguyenMinhTruong20144481/blob/main/NGUYENMINHTRUONG_BUOI8.ipynb\" target=\"_parent\"><img src=\"https://colab.research.google.com/assets/colab-badge.svg\" alt=\"Open In Colab\"/></a>"
      ]
    },
    {
      "cell_type": "code",
      "execution_count": null,
      "metadata": {
        "colab": {
          "base_uri": "https://localhost:8080/"
        },
        "id": "VsCELJfp7BQ7",
        "outputId": "de818960-5e51-4539-d8c0-2ab700f1b9d4"
      },
      "outputs": [
        {
          "output_type": "execute_result",
          "data": {
            "text/plain": [
              "(60000, 28, 28)"
            ]
          },
          "metadata": {},
          "execution_count": 5
        }
      ],
      "source": [
        "from keras.datasets import mnist\n",
        "(x_train, y_train), (x_test, y_test) = mnist.load_data()\n",
        "x_train.shape"
      ]
    },
    {
      "cell_type": "code",
      "source": [
        "y_train.shape"
      ],
      "metadata": {
        "colab": {
          "base_uri": "https://localhost:8080/"
        },
        "id": "ew0hXFn-G4D-",
        "outputId": "d5b50ccd-877f-4d3f-ddbe-f8db47062b1a"
      },
      "execution_count": null,
      "outputs": [
        {
          "output_type": "execute_result",
          "data": {
            "text/plain": [
              "(60000,)"
            ]
          },
          "metadata": {},
          "execution_count": 6
        }
      ]
    },
    {
      "cell_type": "code",
      "source": [
        "x_test.shape"
      ],
      "metadata": {
        "colab": {
          "base_uri": "https://localhost:8080/"
        },
        "id": "0-RGFemMG7yP",
        "outputId": "46d4bdb3-314f-42ff-d3ad-267591564ea0"
      },
      "execution_count": null,
      "outputs": [
        {
          "output_type": "execute_result",
          "data": {
            "text/plain": [
              "(10000, 28, 28)"
            ]
          },
          "metadata": {},
          "execution_count": 7
        }
      ]
    },
    {
      "cell_type": "code",
      "source": [
        "y_test.shape"
      ],
      "metadata": {
        "colab": {
          "base_uri": "https://localhost:8080/"
        },
        "id": "MeCheSO1G-H8",
        "outputId": "dfce293f-449d-4e26-e259-e84dbb9e371b"
      },
      "execution_count": null,
      "outputs": [
        {
          "output_type": "execute_result",
          "data": {
            "text/plain": [
              "(10000,)"
            ]
          },
          "metadata": {},
          "execution_count": 8
        }
      ]
    },
    {
      "cell_type": "code",
      "source": [
        "from keras.datasets import mnist\n",
        "from keras.models import Sequential, Model\n",
        "from keras.layers import Dense, Activation, Dropout, Conv2D, Flatten\n",
        "from keras.layers import Conv2D, MaxPooling2D\n",
        "(x_train, y_train),(x_test,y_test)= mnist.load_data()\n",
        "x_train.shape"
      ],
      "metadata": {
        "colab": {
          "base_uri": "https://localhost:8080/"
        },
        "id": "kZc0WWL-JUqU",
        "outputId": "b16e3634-e658-45aa-ffc4-a2e37f9a5a9a"
      },
      "execution_count": null,
      "outputs": [
        {
          "output_type": "execute_result",
          "data": {
            "text/plain": [
              "(60000, 28, 28)"
            ]
          },
          "metadata": {},
          "execution_count": 14
        }
      ]
    },
    {
      "cell_type": "code",
      "source": [
        "from keras.utils import load_img\n"
      ],
      "metadata": {
        "id": "qO9c_vNpJnaR"
      },
      "execution_count": null,
      "outputs": []
    },
    {
      "cell_type": "code",
      "source": [
        "model = models.Sequential()\n",
        "model.add(Conv2D(32,kernel_size=(3,3),activation='relu',input_shape=(28,28,1),padding='same'))\n",
        "model.add(MaxPooling2D((2,2), padding='same'))\n",
        "model.add(Conv2D(64,kernel_size=(3,3), activation='relu', padding='same'))\n",
        "model.add(Conv2D(128,kernel_size=(3,3), activation='relu', padding='same'))\n",
        "model.add(MaxPooling2D((2,2), padding='same'))\n",
        "#trải hình ảnh thànhh vecto\n",
        "#ANN\n",
        "model.add(Flatten())\n",
        "model.add(Dense(128,activation='relu'))\n",
        "model.add(Dense(6,activation='softmax'))\n"
      ],
      "metadata": {
        "id": "9XgdOXukHfYk"
      },
      "execution_count": null,
      "outputs": []
    },
    {
      "cell_type": "code",
      "source": [
        "from keras.utils import to_categorical\n",
        "from keras import models\n",
        "from keras.layers import Conv2D, MaxPool2D, Dense, Flatten, MaxPooling2D\n",
        "y_train = to_categorical(y_train)\n",
        "y_test = to_categorical(y_test)"
      ],
      "metadata": {
        "id": "5f8H1tDUOf7p"
      },
      "execution_count": null,
      "outputs": []
    },
    {
      "cell_type": "code",
      "source": [
        "Mod = models.Sequential()\n",
        "Mod.add(Conv2D(32,kernel_size = (3,3),activation='relu',input_shape=(28,28,1),padding=\"same\"))\n",
        "Mod.add(MaxPooling2D((2,2),padding=\"same\"))\n",
        "Mod.add(Conv2D(64,kernel_size = (3,3), activation='relu',padding='same'))\n",
        "Mod.add(MaxPooling2D((2,2),padding='same'))\n",
        "Mod.add(Flatten())\n",
        "Mod.add(Dense(128,activation='relu'))\n",
        "Mod.add(Dense(10,activation='softmax'))\n",
        "Mod.compile(loss='categorical_crossentropy',metrics=['accuracy'],optimizer='adam')\n",
        "Dothi = Mod.fit(x_train,y_train,batch_size=128,epochs=20,verbose=2)"
      ],
      "metadata": {
        "colab": {
          "base_uri": "https://localhost:8080/"
        },
        "id": "KncxCEPIMc_f",
        "outputId": "b904c74e-f131-42d1-dd6b-f333f10c9c38"
      },
      "execution_count": null,
      "outputs": [
        {
          "output_type": "stream",
          "name": "stdout",
          "text": [
            "Epoch 1/20\n",
            "469/469 - 64s - loss: 0.5548 - accuracy: 0.9371 - 64s/epoch - 136ms/step\n",
            "Epoch 2/20\n",
            "469/469 - 65s - loss: 0.0596 - accuracy: 0.9816 - 65s/epoch - 138ms/step\n",
            "Epoch 3/20\n",
            "469/469 - 61s - loss: 0.0393 - accuracy: 0.9877 - 61s/epoch - 130ms/step\n",
            "Epoch 4/20\n",
            "469/469 - 60s - loss: 0.0333 - accuracy: 0.9892 - 60s/epoch - 129ms/step\n",
            "Epoch 5/20\n",
            "469/469 - 62s - loss: 0.0237 - accuracy: 0.9924 - 62s/epoch - 132ms/step\n",
            "Epoch 6/20\n",
            "469/469 - 62s - loss: 0.0203 - accuracy: 0.9934 - 62s/epoch - 131ms/step\n",
            "Epoch 7/20\n",
            "469/469 - 60s - loss: 0.0220 - accuracy: 0.9928 - 60s/epoch - 128ms/step\n",
            "Epoch 8/20\n",
            "469/469 - 60s - loss: 0.0165 - accuracy: 0.9948 - 60s/epoch - 128ms/step\n",
            "Epoch 9/20\n",
            "469/469 - 60s - loss: 0.0207 - accuracy: 0.9932 - 60s/epoch - 127ms/step\n",
            "Epoch 10/20\n",
            "469/469 - 60s - loss: 0.0145 - accuracy: 0.9953 - 60s/epoch - 128ms/step\n",
            "Epoch 11/20\n",
            "469/469 - 59s - loss: 0.0156 - accuracy: 0.9951 - 59s/epoch - 126ms/step\n",
            "Epoch 12/20\n",
            "469/469 - 59s - loss: 0.0148 - accuracy: 0.9949 - 59s/epoch - 126ms/step\n",
            "Epoch 13/20\n",
            "469/469 - 59s - loss: 0.0129 - accuracy: 0.9958 - 59s/epoch - 126ms/step\n",
            "Epoch 14/20\n",
            "469/469 - 60s - loss: 0.0127 - accuracy: 0.9960 - 60s/epoch - 128ms/step\n",
            "Epoch 15/20\n",
            "469/469 - 59s - loss: 0.0142 - accuracy: 0.9955 - 59s/epoch - 127ms/step\n",
            "Epoch 16/20\n",
            "469/469 - 59s - loss: 0.0141 - accuracy: 0.9957 - 59s/epoch - 126ms/step\n",
            "Epoch 17/20\n",
            "469/469 - 60s - loss: 0.0061 - accuracy: 0.9979 - 60s/epoch - 128ms/step\n",
            "Epoch 18/20\n",
            "469/469 - 59s - loss: 0.0119 - accuracy: 0.9967 - 59s/epoch - 126ms/step\n",
            "Epoch 19/20\n",
            "469/469 - 60s - loss: 0.0103 - accuracy: 0.9968 - 60s/epoch - 127ms/step\n",
            "Epoch 20/20\n",
            "469/469 - 61s - loss: 0.0092 - accuracy: 0.9972 - 61s/epoch - 129ms/step\n"
          ]
        }
      ]
    },
    {
      "cell_type": "code",
      "source": [
        "Mod.save('dulieu2.h5')"
      ],
      "metadata": {
        "id": "qMHLMxAQTw7h"
      },
      "execution_count": null,
      "outputs": []
    },
    {
      "cell_type": "code",
      "source": [
        "test_lost,test_acc=Mod.evaluate(x_test,y_test)\n",
        "print('Test accuracy:',test_acc)"
      ],
      "metadata": {
        "colab": {
          "base_uri": "https://localhost:8080/"
        },
        "id": "v5ne-AV_UauU",
        "outputId": "2fca30f7-803d-4529-b535-498dac6738d3"
      },
      "execution_count": null,
      "outputs": [
        {
          "output_type": "stream",
          "name": "stdout",
          "text": [
            "313/313 [==============================] - 5s 15ms/step - loss: 0.0781 - accuracy: 0.9864\n",
            "Test accuracy: 0.9864000082015991\n"
          ]
        }
      ]
    },
    {
      "cell_type": "code",
      "source": [
        "from keras.utils import load_img\n",
        "from keras.utils import img_to_array,load_img\n",
        "import matplotlib.pyplot as plt\n",
        "import numpy as np\n",
        "from keras.models import load_model\n",
        "img = load_img('/content/9.png',target_size=(28,28))\n",
        "plt.imshow(img)\n",
        "img = img_to_array(img)\n",
        "img = img[:,:,0]\n",
        "img = img.astype('float32')\n",
        "img = img.reshape(1,28,28,1)\n",
        "img = img/255\n",
        "class_number=['1','2','3','4','5','6','7','8','9','0']\n",
        "a= int(np.argmax(Mod.predict(img),axis=1))\n",
        "print(\"Đây là số:\", class_number[a])"
      ],
      "metadata": {
        "colab": {
          "base_uri": "https://localhost:8080/",
          "height": 300
        },
        "id": "xCQd6iI2WGxw",
        "outputId": "8790e473-2c6d-46f8-e821-175c95f5c2a8"
      },
      "execution_count": null,
      "outputs": [
        {
          "output_type": "stream",
          "name": "stdout",
          "text": [
            "1/1 [==============================] - 0s 21ms/step\n",
            "Đây là số: 9\n"
          ]
        },
        {
          "output_type": "display_data",
          "data": {
            "text/plain": [
              "<Figure size 432x288 with 1 Axes>"
            ],
            "image/png": "[encoded data removed]"
          },
          "metadata": {
            "needs_background": "light"
          }
        }
      ]
    }
  ]
}