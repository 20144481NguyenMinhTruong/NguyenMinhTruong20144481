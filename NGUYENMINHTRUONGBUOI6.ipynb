{
  "nbformat": 4,
  "nbformat_minor": 0,
  "metadata": {
    "colab": {
      "provenance": [],
      "collapsed_sections": [],
      "authorship_tag": "ABX9TyO+xcsKHT6uTpqJOumBdU5t",
      "include_colab_link": true
    },
    "kernelspec": {
      "name": "python3",
      "display_name": "Python 3"
    },
    "language_info": {
      "name": "python"
    }
  },
  "cells": [
    {
      "cell_type": "markdown",
      "metadata": {
        "id": "view-in-github",
        "colab_type": "text"
      },
      "source": [
        "<a href=\"https://colab.research.google.com/github/20144481NguyenMinhTruong/NguyenMinhTruong20144481/blob/main/NGUYENMINHTRUONGBUOI6.ipynb\" target=\"_parent\"><img src=\"https://colab.research.google.com/assets/colab-badge.svg\" alt=\"Open In Colab\"/></a>"
      ]
    },
    {
      "cell_type": "code",
      "execution_count": null,
      "metadata": {
        "colab": {
          "base_uri": "https://localhost:8080/"
        },
        "id": "ap9Wdn0ILDz8",
        "outputId": "07bb420f-1087-4be1-9bf8-31c7f6ef9a89"
      },
      "outputs": [
        {
          "output_type": "execute_result",
          "data": {
            "text/plain": [
              "(60000, 28, 28)"
            ]
          },
          "metadata": {},
          "execution_count": 14
        }
      ],
      "source": [
        "from keras.datasets import fashion_mnist\n",
        "(x_train, y_train), (x_test, y_test) = fashion_mnist.load_data()\n",
        "x_train.shape"
      ]
    },
    {
      "cell_type": "code",
      "source": [
        "x_train.shape"
      ],
      "metadata": {
        "colab": {
          "base_uri": "https://localhost:8080/"
        },
        "id": "xRZ-5zhHLKKc",
        "outputId": "917b1527-e044-41f1-807d-6f2ba5cef333"
      },
      "execution_count": null,
      "outputs": [
        {
          "output_type": "execute_result",
          "data": {
            "text/plain": [
              "(60000, 28, 28)"
            ]
          },
          "metadata": {},
          "execution_count": 15
        }
      ]
    },
    {
      "cell_type": "code",
      "source": [
        "y_train.shape"
      ],
      "metadata": {
        "colab": {
          "base_uri": "https://localhost:8080/"
        },
        "id": "KIXtwEUyLNNU",
        "outputId": "9ae09032-a1dd-40c9-cee0-3999a9f6bd27"
      },
      "execution_count": null,
      "outputs": [
        {
          "output_type": "execute_result",
          "data": {
            "text/plain": [
              "(60000,)"
            ]
          },
          "metadata": {},
          "execution_count": 16
        }
      ]
    },
    {
      "cell_type": "code",
      "source": [
        "x_test.shape"
      ],
      "metadata": {
        "colab": {
          "base_uri": "https://localhost:8080/"
        },
        "id": "UMuBSojcLPyT",
        "outputId": "de6a8b89-6043-47c1-e8a1-6fb655432a15"
      },
      "execution_count": null,
      "outputs": [
        {
          "output_type": "execute_result",
          "data": {
            "text/plain": [
              "(10000, 28, 28)"
            ]
          },
          "metadata": {},
          "execution_count": 18
        }
      ]
    },
    {
      "cell_type": "code",
      "source": [
        "y_test.shape"
      ],
      "metadata": {
        "colab": {
          "base_uri": "https://localhost:8080/"
        },
        "id": "C64u_O6XLSjT",
        "outputId": "d05fed08-231d-4098-c2be-7b3c989bf433"
      },
      "execution_count": null,
      "outputs": [
        {
          "output_type": "execute_result",
          "data": {
            "text/plain": [
              "(10000,)"
            ]
          },
          "metadata": {},
          "execution_count": 19
        }
      ]
    },
    {
      "cell_type": "code",
      "source": [
        "import matplotlib.pyplot as plt\n",
        "class_names= ['T-Shirt/Top','Trousers','Pullover','Press','Coat','Sandal','Shirt','Sneaker', 'Bag', 'Ankle boat']\n",
        "plt.imshow(x_train[430])\n",
        "plt.show()\n",
        "print(class_names[y_train[430]])"
      ],
      "metadata": {
        "colab": {
          "base_uri": "https://localhost:8080/",
          "height": 282
        },
        "id": "xZI6IdUnLWRH",
        "outputId": "cb422dd7-19fa-458b-8f87-ce50f737c12e"
      },
      "execution_count": null,
      "outputs": [
        {
          "output_type": "display_data",
          "data": {
            "text/plain": [
              "<Figure size 432x288 with 1 Axes>"
            ],
            "image/png": "[encoded data removed]"
          },
          "metadata": {
            "needs_background": "light"
          }
        },
        {
          "output_type": "stream",
          "name": "stdout",
          "text": [
            "Bag\n"
          ]
        }
      ]
    },
    {
      "cell_type": "code",
      "source": [
        "from keras import models\n",
        "from keras import layers\n",
        "model = models.Sequential()\n",
        "model.add(layers.Dense(512,activation = 'relu',input_shape = (28*28,)))\n",
        "model.add(layers.Dense(10,activation = 'softmax'))\n",
        "x_train = x_train.reshape((60000,28*28))\n",
        "x_train = x_train.astype('float32')/255\n",
        "x_test = x_test.reshape((10000,28*28))\n",
        "x_test = x_test.astype('float32')/255\n",
        "from keras.utils import to_categorical\n",
        "y_train = to_categorical(y_train)\n",
        "y_test = to_categorical(y_test)\n",
        "from keras.metrics import metrics\n",
        "model.compile(optimizer ='rmsprop',loss='categorical_crossentropy',metrics=['accuracy'])\n",
        "model.fit(x_train,y_train,epochs=100, batch_size= 128)"
      ],
      "metadata": {
        "colab": {
          "base_uri": "https://localhost:8080/"
        },
        "id": "J0qulklbLiyB",
        "outputId": "62928598-d018-4fb7-a153-1927bf95ae1d"
      },
      "execution_count": null,
      "outputs": [
        {
          "output_type": "stream",
          "name": "stdout",
          "text": [
            "Epoch 1/100\n",
            "469/469 [==============================] - 6s 11ms/step - loss: 0.5568 - accuracy: 0.8033\n",
            "Epoch 2/100\n",
            "469/469 [==============================] - 5s 10ms/step - loss: 0.3803 - accuracy: 0.8615\n",
            "Epoch 3/100\n",
            "469/469 [==============================] - 5s 11ms/step - loss: 0.3374 - accuracy: 0.8749\n",
            "Epoch 4/100\n",
            "469/469 [==============================] - 5s 11ms/step - loss: 0.3096 - accuracy: 0.8861\n",
            "Epoch 5/100\n",
            "469/469 [==============================] - 5s 10ms/step - loss: 0.2914 - accuracy: 0.8923\n",
            "Epoch 6/100\n",
            "469/469 [==============================] - 5s 10ms/step - loss: 0.2771 - accuracy: 0.8976\n",
            "Epoch 7/100\n",
            "469/469 [==============================] - 5s 10ms/step - loss: 0.2644 - accuracy: 0.9031\n",
            "Epoch 8/100\n",
            "469/469 [==============================] - 6s 13ms/step - loss: 0.2535 - accuracy: 0.9064\n",
            "Epoch 9/100\n",
            "469/469 [==============================] - 5s 11ms/step - loss: 0.2430 - accuracy: 0.9100\n",
            "Epoch 10/100\n",
            "469/469 [==============================] - 5s 10ms/step - loss: 0.2352 - accuracy: 0.9118\n",
            "Epoch 11/100\n",
            "469/469 [==============================] - 5s 10ms/step - loss: 0.2254 - accuracy: 0.9172\n",
            "Epoch 12/100\n",
            "469/469 [==============================] - 5s 11ms/step - loss: 0.2185 - accuracy: 0.9189\n",
            "Epoch 13/100\n",
            "469/469 [==============================] - 5s 11ms/step - loss: 0.2111 - accuracy: 0.9214\n",
            "Epoch 14/100\n",
            "469/469 [==============================] - 5s 10ms/step - loss: 0.2038 - accuracy: 0.9253\n",
            "Epoch 15/100\n",
            "469/469 [==============================] - 5s 10ms/step - loss: 0.1989 - accuracy: 0.9272\n",
            "Epoch 16/100\n",
            "469/469 [==============================] - 5s 10ms/step - loss: 0.1916 - accuracy: 0.9295\n",
            "Epoch 17/100\n",
            "469/469 [==============================] - 5s 10ms/step - loss: 0.1848 - accuracy: 0.9326\n",
            "Epoch 18/100\n",
            "469/469 [==============================] - 5s 11ms/step - loss: 0.1830 - accuracy: 0.9324\n",
            "Epoch 19/100\n",
            "469/469 [==============================] - 5s 10ms/step - loss: 0.1773 - accuracy: 0.9347\n",
            "Epoch 20/100\n",
            "469/469 [==============================] - 5s 11ms/step - loss: 0.1723 - accuracy: 0.9370\n",
            "Epoch 21/100\n",
            "469/469 [==============================] - 5s 11ms/step - loss: 0.1682 - accuracy: 0.9388\n",
            "Epoch 22/100\n",
            "469/469 [==============================] - 5s 11ms/step - loss: 0.1625 - accuracy: 0.9409\n",
            "Epoch 23/100\n",
            "469/469 [==============================] - 5s 11ms/step - loss: 0.1613 - accuracy: 0.9415\n",
            "Epoch 24/100\n",
            "469/469 [==============================] - 5s 11ms/step - loss: 0.1559 - accuracy: 0.9428\n",
            "Epoch 25/100\n",
            "469/469 [==============================] - 5s 11ms/step - loss: 0.1534 - accuracy: 0.9449\n",
            "Epoch 26/100\n",
            "469/469 [==============================] - 5s 10ms/step - loss: 0.1483 - accuracy: 0.9459\n",
            "Epoch 27/100\n",
            "469/469 [==============================] - 5s 10ms/step - loss: 0.1464 - accuracy: 0.9464\n",
            "Epoch 28/100\n",
            "469/469 [==============================] - 5s 10ms/step - loss: 0.1431 - accuracy: 0.9481\n",
            "Epoch 29/100\n",
            "469/469 [==============================] - 5s 10ms/step - loss: 0.1380 - accuracy: 0.9497\n",
            "Epoch 30/100\n",
            "469/469 [==============================] - 5s 10ms/step - loss: 0.1361 - accuracy: 0.9502\n",
            "Epoch 31/100\n",
            "469/469 [==============================] - 5s 10ms/step - loss: 0.1339 - accuracy: 0.9510\n",
            "Epoch 32/100\n",
            "469/469 [==============================] - 5s 10ms/step - loss: 0.1305 - accuracy: 0.9532\n",
            "Epoch 33/100\n",
            "469/469 [==============================] - 5s 10ms/step - loss: 0.1293 - accuracy: 0.9531\n",
            "Epoch 34/100\n",
            "469/469 [==============================] - 5s 10ms/step - loss: 0.1275 - accuracy: 0.9545\n",
            "Epoch 35/100\n",
            "469/469 [==============================] - 5s 10ms/step - loss: 0.1216 - accuracy: 0.9569\n",
            "Epoch 36/100\n",
            "469/469 [==============================] - 5s 10ms/step - loss: 0.1202 - accuracy: 0.9574\n",
            "Epoch 37/100\n",
            "469/469 [==============================] - 5s 10ms/step - loss: 0.1156 - accuracy: 0.9581\n",
            "Epoch 38/100\n",
            "469/469 [==============================] - 5s 10ms/step - loss: 0.1150 - accuracy: 0.9592\n",
            "Epoch 39/100\n",
            "469/469 [==============================] - 5s 10ms/step - loss: 0.1154 - accuracy: 0.9586\n",
            "Epoch 40/100\n",
            "469/469 [==============================] - 6s 13ms/step - loss: 0.1124 - accuracy: 0.9608\n",
            "Epoch 41/100\n",
            "469/469 [==============================] - 5s 11ms/step - loss: 0.1117 - accuracy: 0.9617\n",
            "Epoch 42/100\n",
            "469/469 [==============================] - 5s 11ms/step - loss: 0.1097 - accuracy: 0.9615\n",
            "Epoch 43/100\n",
            "469/469 [==============================] - 5s 11ms/step - loss: 0.1061 - accuracy: 0.9627\n",
            "Epoch 44/100\n",
            "469/469 [==============================] - 5s 11ms/step - loss: 0.1035 - accuracy: 0.9637\n",
            "Epoch 45/100\n",
            "469/469 [==============================] - 5s 11ms/step - loss: 0.1039 - accuracy: 0.9640\n",
            "Epoch 46/100\n",
            "469/469 [==============================] - 5s 11ms/step - loss: 0.1034 - accuracy: 0.9648\n",
            "Epoch 47/100\n",
            "469/469 [==============================] - 5s 11ms/step - loss: 0.1008 - accuracy: 0.9660\n",
            "Epoch 48/100\n",
            "469/469 [==============================] - 5s 11ms/step - loss: 0.0982 - accuracy: 0.9659\n",
            "Epoch 49/100\n",
            "469/469 [==============================] - 5s 11ms/step - loss: 0.0951 - accuracy: 0.9662\n",
            "Epoch 50/100\n",
            "469/469 [==============================] - 5s 11ms/step - loss: 0.0953 - accuracy: 0.9671\n",
            "Epoch 51/100\n",
            "469/469 [==============================] - 5s 11ms/step - loss: 0.0963 - accuracy: 0.9671\n",
            "Epoch 52/100\n",
            "469/469 [==============================] - 5s 11ms/step - loss: 0.0925 - accuracy: 0.9682\n",
            "Epoch 53/100\n",
            "469/469 [==============================] - 5s 11ms/step - loss: 0.0919 - accuracy: 0.9687\n",
            "Epoch 54/100\n",
            "469/469 [==============================] - 5s 11ms/step - loss: 0.0906 - accuracy: 0.9686\n",
            "Epoch 55/100\n",
            "469/469 [==============================] - 5s 11ms/step - loss: 0.0875 - accuracy: 0.9696\n",
            "Epoch 56/100\n",
            "469/469 [==============================] - 5s 11ms/step - loss: 0.0868 - accuracy: 0.9697\n",
            "Epoch 57/100\n",
            "469/469 [==============================] - 5s 11ms/step - loss: 0.0856 - accuracy: 0.9705\n",
            "Epoch 58/100\n",
            "469/469 [==============================] - 5s 11ms/step - loss: 0.0854 - accuracy: 0.9711\n",
            "Epoch 59/100\n",
            "469/469 [==============================] - 5s 11ms/step - loss: 0.0848 - accuracy: 0.9718\n",
            "Epoch 60/100\n",
            "469/469 [==============================] - 5s 11ms/step - loss: 0.0847 - accuracy: 0.9708\n",
            "Epoch 61/100\n",
            "469/469 [==============================] - 5s 11ms/step - loss: 0.0804 - accuracy: 0.9727\n",
            "Epoch 62/100\n",
            "469/469 [==============================] - 5s 11ms/step - loss: 0.0817 - accuracy: 0.9721\n",
            "Epoch 63/100\n",
            "469/469 [==============================] - 5s 11ms/step - loss: 0.0789 - accuracy: 0.9743\n",
            "Epoch 64/100\n",
            "469/469 [==============================] - 5s 11ms/step - loss: 0.0785 - accuracy: 0.9729\n",
            "Epoch 65/100\n",
            "469/469 [==============================] - 5s 11ms/step - loss: 0.0782 - accuracy: 0.9742\n",
            "Epoch 66/100\n",
            "469/469 [==============================] - 5s 10ms/step - loss: 0.0741 - accuracy: 0.9759\n",
            "Epoch 67/100\n",
            "469/469 [==============================] - 5s 11ms/step - loss: 0.0752 - accuracy: 0.9746\n",
            "Epoch 68/100\n",
            "469/469 [==============================] - 5s 11ms/step - loss: 0.0757 - accuracy: 0.9756\n",
            "Epoch 69/100\n",
            "469/469 [==============================] - 5s 10ms/step - loss: 0.0736 - accuracy: 0.9750\n",
            "Epoch 70/100\n",
            "469/469 [==============================] - 5s 11ms/step - loss: 0.0745 - accuracy: 0.9751\n",
            "Epoch 71/100\n",
            "469/469 [==============================] - 5s 10ms/step - loss: 0.0734 - accuracy: 0.9764\n",
            "Epoch 72/100\n",
            "469/469 [==============================] - 5s 10ms/step - loss: 0.0726 - accuracy: 0.9764\n",
            "Epoch 73/100\n",
            "469/469 [==============================] - 5s 11ms/step - loss: 0.0710 - accuracy: 0.9771\n",
            "Epoch 74/100\n",
            "469/469 [==============================] - 5s 11ms/step - loss: 0.0722 - accuracy: 0.9764\n",
            "Epoch 75/100\n",
            "469/469 [==============================] - 5s 11ms/step - loss: 0.0677 - accuracy: 0.9774\n",
            "Epoch 76/100\n",
            "469/469 [==============================] - 5s 11ms/step - loss: 0.0682 - accuracy: 0.9779\n",
            "Epoch 77/100\n",
            "469/469 [==============================] - 5s 11ms/step - loss: 0.0683 - accuracy: 0.9785\n",
            "Epoch 78/100\n",
            "469/469 [==============================] - 5s 11ms/step - loss: 0.0673 - accuracy: 0.9778\n",
            "Epoch 79/100\n",
            "469/469 [==============================] - 5s 11ms/step - loss: 0.0663 - accuracy: 0.9784\n",
            "Epoch 80/100\n",
            "469/469 [==============================] - 5s 11ms/step - loss: 0.0643 - accuracy: 0.9790\n",
            "Epoch 81/100\n",
            "469/469 [==============================] - 5s 11ms/step - loss: 0.0679 - accuracy: 0.9778\n",
            "Epoch 82/100\n",
            "469/469 [==============================] - 5s 10ms/step - loss: 0.0641 - accuracy: 0.9795\n",
            "Epoch 83/100\n",
            "469/469 [==============================] - 5s 11ms/step - loss: 0.0640 - accuracy: 0.9792\n",
            "Epoch 84/100\n",
            "469/469 [==============================] - 6s 13ms/step - loss: 0.0630 - accuracy: 0.9803\n",
            "Epoch 85/100\n",
            "469/469 [==============================] - 5s 10ms/step - loss: 0.0623 - accuracy: 0.9799\n",
            "Epoch 86/100\n",
            "469/469 [==============================] - 5s 11ms/step - loss: 0.0643 - accuracy: 0.9803\n",
            "Epoch 87/100\n",
            "469/469 [==============================] - 5s 11ms/step - loss: 0.0639 - accuracy: 0.9801\n",
            "Epoch 88/100\n",
            "469/469 [==============================] - 5s 10ms/step - loss: 0.0630 - accuracy: 0.9808\n",
            "Epoch 89/100\n",
            "469/469 [==============================] - 5s 10ms/step - loss: 0.0582 - accuracy: 0.9814\n",
            "Epoch 90/100\n",
            "469/469 [==============================] - 5s 10ms/step - loss: 0.0624 - accuracy: 0.9811\n",
            "Epoch 91/100\n",
            "469/469 [==============================] - 5s 10ms/step - loss: 0.0592 - accuracy: 0.9818\n",
            "Epoch 92/100\n",
            "469/469 [==============================] - 5s 10ms/step - loss: 0.0616 - accuracy: 0.9812\n",
            "Epoch 93/100\n",
            "469/469 [==============================] - 5s 10ms/step - loss: 0.0568 - accuracy: 0.9819\n",
            "Epoch 94/100\n",
            "469/469 [==============================] - 5s 10ms/step - loss: 0.0557 - accuracy: 0.9824\n",
            "Epoch 95/100\n",
            "469/469 [==============================] - 5s 10ms/step - loss: 0.0577 - accuracy: 0.9819\n",
            "Epoch 96/100\n",
            "469/469 [==============================] - 5s 10ms/step - loss: 0.0584 - accuracy: 0.9819\n",
            "Epoch 97/100\n",
            "469/469 [==============================] - 5s 10ms/step - loss: 0.0569 - accuracy: 0.9825\n",
            "Epoch 98/100\n",
            "469/469 [==============================] - 5s 10ms/step - loss: 0.0555 - accuracy: 0.9833\n",
            "Epoch 99/100\n",
            "469/469 [==============================] - 5s 10ms/step - loss: 0.0556 - accuracy: 0.9829\n",
            "Epoch 100/100\n",
            "469/469 [==============================] - 5s 10ms/step - loss: 0.0542 - accuracy: 0.9830\n"
          ]
        },
        {
          "output_type": "execute_result",
          "data": {
            "text/plain": [
              "<keras.callbacks.History at 0x7f85fecbfb50>"
            ]
          },
          "metadata": {},
          "execution_count": 21
        }
      ]
    },
    {
      "cell_type": "code",
      "source": [
        "test_loss, test_acc= model.evaluate(x_test,y_test)\n",
        "print('Test accuracy',test_acc)"
      ],
      "metadata": {
        "colab": {
          "base_uri": "https://localhost:8080/"
        },
        "id": "I8R4HPDXPiPz",
        "outputId": "e38d8c53-67eb-484f-c61c-70c7feb31eef"
      },
      "execution_count": null,
      "outputs": [
        {
          "output_type": "stream",
          "name": "stdout",
          "text": [
            "313/313 [==============================] - 1s 3ms/step - loss: 1.0672 - accuracy: 0.8940\n",
            "Test accuracy 0.8939999938011169\n"
          ]
        }
      ]
    },
    {
      "cell_type": "code",
      "source": [
        "import numpy as np\n",
        "from tensorflow.keras.utils import load_img\n",
        "url = '/content/aothun.png'\n",
        "img= load_img(url, target_size=(28,28))\n",
        "plt.imshow(img)"
      ],
      "metadata": {
        "colab": {
          "base_uri": "https://localhost:8080/",
          "height": 282
        },
        "id": "6EDSznYoTcBX",
        "outputId": "9b998d98-deff-4fe3-c770-cb0441a37fb3"
      },
      "execution_count": null,
      "outputs": [
        {
          "output_type": "execute_result",
          "data": {
            "text/plain": [
              "<matplotlib.image.AxesImage at 0x7f85fc2bb210>"
            ]
          },
          "metadata": {},
          "execution_count": 26
        },
        {
          "output_type": "display_data",
          "data": {
            "text/plain": [
              "<Figure size 432x288 with 1 Axes>"
            ],
            "image/png": "[encoded data removed]"
          },
          "metadata": {
            "needs_background": "light"
          }
        }
      ]
    },
    {
      "cell_type": "code",
      "source": [
        "from keras.utils import img_to_array\n",
        "import numpy as np \n",
        "from keras.utils import load_img\n",
        "img = load_img('/content/aothun.png',target_size = (28,28))\n",
        "img = img_to_array(img)\n",
        "img = img.reshape(1,28,28,3)\n",
        "img = img.astype('float32')\n",
        "img = img/255\n",
        "img = img.reshape(1,784)\n",
        "np.argmax(model.predict(img), axis = 1)\n"
      ],
      "metadata": {
        "colab": {
          "base_uri": "https://localhost:8080/",
          "height": 217
        },
        "id": "kROAdl1ZTpt3",
        "outputId": "4b022c7b-e2cb-4fda-eb18-f6b3b630b7aa"
      },
      "execution_count": 2,
      "outputs": [
        {
          "output_type": "error",
          "ename": "ValueError",
          "evalue": "ignored",
          "traceback": [
            "\u001b[0;31m---------------------------------------------------------------------------\u001b[0m",
            "\u001b[0;31mValueError\u001b[0m                                Traceback (most recent call last)",
            "\u001b[0;32m<ipython-input-2-ee93d41b6fba>\u001b[0m in \u001b[0;36m<module>\u001b[0;34m\u001b[0m\n\u001b[1;32m      7\u001b[0m \u001b[0mimg\u001b[0m \u001b[0;34m=\u001b[0m \u001b[0mimg\u001b[0m\u001b[0;34m.\u001b[0m\u001b[0mastype\u001b[0m\u001b[0;34m(\u001b[0m\u001b[0;34m'float32'\u001b[0m\u001b[0;34m)\u001b[0m\u001b[0;34m\u001b[0m\u001b[0;34m\u001b[0m\u001b[0m\n\u001b[1;32m      8\u001b[0m \u001b[0mimg\u001b[0m \u001b[0;34m=\u001b[0m \u001b[0mimg\u001b[0m\u001b[0;34m/\u001b[0m\u001b[0;36m255\u001b[0m\u001b[0;34m\u001b[0m\u001b[0;34m\u001b[0m\u001b[0m\n\u001b[0;32m----> 9\u001b[0;31m \u001b[0mimg\u001b[0m \u001b[0;34m=\u001b[0m \u001b[0mimg\u001b[0m\u001b[0;34m.\u001b[0m\u001b[0mreshape\u001b[0m\u001b[0;34m(\u001b[0m\u001b[0;36m1\u001b[0m\u001b[0;34m,\u001b[0m\u001b[0;36m784\u001b[0m\u001b[0;34m)\u001b[0m\u001b[0;34m\u001b[0m\u001b[0;34m\u001b[0m\u001b[0m\n\u001b[0m\u001b[1;32m     10\u001b[0m \u001b[0mnp\u001b[0m\u001b[0;34m.\u001b[0m\u001b[0margmax\u001b[0m\u001b[0;34m(\u001b[0m\u001b[0mmodel\u001b[0m\u001b[0;34m.\u001b[0m\u001b[0mpredict\u001b[0m\u001b[0;34m(\u001b[0m\u001b[0mimg\u001b[0m\u001b[0;34m)\u001b[0m\u001b[0;34m,\u001b[0m \u001b[0maxis\u001b[0m \u001b[0;34m=\u001b[0m \u001b[0;36m1\u001b[0m\u001b[0;34m)\u001b[0m\u001b[0;34m\u001b[0m\u001b[0;34m\u001b[0m\u001b[0m\n",
            "\u001b[0;31mValueError\u001b[0m: cannot reshape array of size 2352 into shape (1,784)"
          ]
        }
      ]
    }
  ]
}