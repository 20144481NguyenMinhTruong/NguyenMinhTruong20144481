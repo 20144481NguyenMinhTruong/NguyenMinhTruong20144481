{
  "nbformat": 4,
  "nbformat_minor": 0,
  "metadata": {
    "colab": {
      "provenance": [],
      "authorship_tag": "ABX9TyOabF6pyxJQR59B2IhewewT",
      "include_colab_link": true
    },
    "kernelspec": {
      "name": "python3",
      "display_name": "Python 3"
    },
    "language_info": {
      "name": "python"
    },
    "accelerator": "GPU",
    "gpuClass": "standard"
  },
  "cells": [
    {
      "cell_type": "markdown",
      "metadata": {
        "id": "view-in-github",
        "colab_type": "text"
      },
      "source": [
        "<a href=\"https://colab.research.google.com/github/20144481NguyenMinhTruong/NguyenMinhTruong20144481/blob/main/BUOI9.ipynb\" target=\"_parent\"><img src=\"https://colab.research.google.com/assets/colab-badge.svg\" alt=\"Open In Colab\"/></a>"
      ]
    },
    {
      "cell_type": "code",
      "execution_count": null,
      "metadata": {
        "colab": {
          "base_uri": "https://localhost:8080/"
        },
        "id": "zI01T7l-HbFo",
        "outputId": "57526ae2-e2d1-49be-f56f-da6c0a7f07a0"
      },
      "outputs": [
        {
          "output_type": "stream",
          "name": "stdout",
          "text": [
            "Looking in indexes: https://pypi.org/simple, https://us-python.pkg.dev/colab-wheels/public/simple/\n",
            "Collecting youtube-search\n",
            "  Downloading youtube_search-2.1.2-py3-none-any.whl (3.4 kB)\n",
            "Requirement already satisfied: requests in /usr/local/lib/python3.7/dist-packages (from youtube-search) (2.23.0)\n",
            "Requirement already satisfied: chardet<4,>=3.0.2 in /usr/local/lib/python3.7/dist-packages (from requests->youtube-search) (3.0.4)\n",
            "Requirement already satisfied: idna<3,>=2.5 in /usr/local/lib/python3.7/dist-packages (from requests->youtube-search) (2.10)\n",
            "Requirement already satisfied: certifi>=2017.4.17 in /usr/local/lib/python3.7/dist-packages (from requests->youtube-search) (2022.9.24)\n",
            "Requirement already satisfied: urllib3!=1.25.0,!=1.25.1,<1.26,>=1.21.1 in /usr/local/lib/python3.7/dist-packages (from requests->youtube-search) (1.24.3)\n",
            "Installing collected packages: youtube-search\n",
            "Successfully installed youtube-search-2.1.2\n"
          ]
        }
      ],
      "source": [
        "pip install youtube-search"
      ]
    },
    {
      "cell_type": "code",
      "source": [
        "!pip install SpeechRecognition"
      ],
      "metadata": {
        "colab": {
          "base_uri": "https://localhost:8080/"
        },
        "id": "eVSHgIYmNoUo",
        "outputId": "2eb14774-428c-421f-b649-de611c724212"
      },
      "execution_count": null,
      "outputs": [
        {
          "output_type": "stream",
          "name": "stdout",
          "text": [
            "Looking in indexes: https://pypi.org/simple, https://us-python.pkg.dev/colab-wheels/public/simple/\n",
            "Collecting SpeechRecognition\n",
            "  Downloading SpeechRecognition-3.8.1-py2.py3-none-any.whl (32.8 MB)\n",
            "\u001b[K     |████████████████████████████████| 32.8 MB 1.3 MB/s \n",
            "\u001b[?25hInstalling collected packages: SpeechRecognition\n",
            "Successfully installed SpeechRecognition-3.8.1\n"
          ]
        }
      ]
    },
    {
      "cell_type": "code",
      "source": [
        "!pip install playsound"
      ],
      "metadata": {
        "colab": {
          "base_uri": "https://localhost:8080/"
        },
        "id": "YBuvWWmDNsu-",
        "outputId": "c6f4a009-cea0-4e0f-b877-cb1ca6850d43"
      },
      "execution_count": null,
      "outputs": [
        {
          "output_type": "stream",
          "name": "stdout",
          "text": [
            "Looking in indexes: https://pypi.org/simple, https://us-python.pkg.dev/colab-wheels/public/simple/\n",
            "Collecting playsound\n",
            "  Downloading playsound-1.3.0.tar.gz (7.7 kB)\n",
            "Building wheels for collected packages: playsound\n",
            "  Building wheel for playsound (setup.py) ... \u001b[?25l\u001b[?25hdone\n",
            "  Created wheel for playsound: filename=playsound-1.3.0-py3-none-any.whl size=7038 sha256=afc59613755abdb4a3c494aa7a9d1e2a8b6d4ce83b8fa29b02f755351acac484\n",
            "  Stored in directory: /root/.cache/pip/wheels/ba/f8/bb/ea57c0146b664dca3a0ada4199b0ecb5f9dfcb7b7e22b65ba2\n",
            "Successfully built playsound\n",
            "Installing collected packages: playsound\n",
            "Successfully installed playsound-1.3.0\n"
          ]
        }
      ]
    },
    {
      "cell_type": "code",
      "source": [
        "!apt install libasound2-dev portaudio19-dev libportaudio2 libportaudiocpp0 ffmpeg"
      ],
      "metadata": {
        "colab": {
          "base_uri": "https://localhost:8080/"
        },
        "id": "OdUU1suAN4iG",
        "outputId": "6f779b9f-ad40-4976-d645-a40deecabcc6"
      },
      "execution_count": null,
      "outputs": [
        {
          "output_type": "stream",
          "name": "stdout",
          "text": [
            "Reading package lists... Done\n",
            "Building dependency tree       \n",
            "Reading state information... Done\n",
            "libasound2-dev is already the newest version (1.1.3-5ubuntu0.6).\n",
            "ffmpeg is already the newest version (7:3.4.11-0ubuntu0.1).\n",
            "The following package was automatically installed and is no longer required:\n",
            "  libnvidia-common-460\n",
            "Use 'apt autoremove' to remove it.\n",
            "Suggested packages:\n",
            "  portaudio19-doc\n",
            "The following NEW packages will be installed:\n",
            "  libportaudio2 libportaudiocpp0 portaudio19-dev\n",
            "0 upgraded, 3 newly installed, 0 to remove and 5 not upgraded.\n",
            "Need to get 184 kB of archives.\n",
            "After this operation, 891 kB of additional disk space will be used.\n",
            "Get:1 http://archive.ubuntu.com/ubuntu bionic/universe amd64 libportaudio2 amd64 19.6.0-1 [64.6 kB]\n",
            "Get:2 http://archive.ubuntu.com/ubuntu bionic/universe amd64 libportaudiocpp0 amd64 19.6.0-1 [15.1 kB]\n",
            "Get:3 http://archive.ubuntu.com/ubuntu bionic/universe amd64 portaudio19-dev amd64 19.6.0-1 [104 kB]\n",
            "Fetched 184 kB in 1s (294 kB/s)\n",
            "Selecting previously unselected package libportaudio2:amd64.\n",
            "(Reading database ... 123991 files and directories currently installed.)\n",
            "Preparing to unpack .../libportaudio2_19.6.0-1_amd64.deb ...\n",
            "Unpacking libportaudio2:amd64 (19.6.0-1) ...\n",
            "Selecting previously unselected package libportaudiocpp0:amd64.\n",
            "Preparing to unpack .../libportaudiocpp0_19.6.0-1_amd64.deb ...\n",
            "Unpacking libportaudiocpp0:amd64 (19.6.0-1) ...\n",
            "Selecting previously unselected package portaudio19-dev:amd64.\n",
            "Preparing to unpack .../portaudio19-dev_19.6.0-1_amd64.deb ...\n",
            "Unpacking portaudio19-dev:amd64 (19.6.0-1) ...\n",
            "Setting up libportaudio2:amd64 (19.6.0-1) ...\n",
            "Setting up libportaudiocpp0:amd64 (19.6.0-1) ...\n",
            "Setting up portaudio19-dev:amd64 (19.6.0-1) ...\n",
            "Processing triggers for libc-bin (2.27-3ubuntu1.6) ...\n"
          ]
        }
      ]
    },
    {
      "cell_type": "code",
      "source": [
        "!pip install Google Speech API"
      ],
      "metadata": {
        "colab": {
          "base_uri": "https://localhost:8080/"
        },
        "id": "TDBTGqj5PvGa",
        "outputId": "b0036521-4405-49ef-d42f-ad07cddb02f2"
      },
      "execution_count": null,
      "outputs": [
        {
          "output_type": "stream",
          "name": "stdout",
          "text": [
            "Looking in indexes: https://pypi.org/simple, https://us-python.pkg.dev/colab-wheels/public/simple/\n",
            "Requirement already satisfied: Google in /usr/local/lib/python3.7/dist-packages (2.0.3)\n",
            "Collecting Speech\n",
            "  Downloading speech-0.5.2.tar.gz (18 kB)\n",
            "Collecting API\n",
            "  Downloading api-0.0.7.tar.gz (2.2 kB)\n",
            "Requirement already satisfied: beautifulsoup4 in /usr/local/lib/python3.7/dist-packages (from Google) (4.6.3)\n",
            "Requirement already satisfied: requests in /usr/local/lib/python3.7/dist-packages (from API) (2.23.0)\n",
            "Collecting nose\n",
            "  Downloading nose-1.3.7-py3-none-any.whl (154 kB)\n",
            "\u001b[K     |████████████████████████████████| 154 kB 5.7 MB/s \n",
            "\u001b[?25hRequirement already satisfied: chardet<4,>=3.0.2 in /usr/local/lib/python3.7/dist-packages (from requests->API) (3.0.4)\n",
            "Requirement already satisfied: idna<3,>=2.5 in /usr/local/lib/python3.7/dist-packages (from requests->API) (2.10)\n",
            "Requirement already satisfied: certifi>=2017.4.17 in /usr/local/lib/python3.7/dist-packages (from requests->API) (2022.9.24)\n",
            "Requirement already satisfied: urllib3!=1.25.0,!=1.25.1,<1.26,>=1.21.1 in /usr/local/lib/python3.7/dist-packages (from requests->API) (1.24.3)\n",
            "Building wheels for collected packages: Speech, API\n",
            "  Building wheel for Speech (setup.py) ... \u001b[?25l\u001b[?25hdone\n",
            "  Created wheel for Speech: filename=speech-0.5.2-py3-none-any.whl size=5130 sha256=c70a94dee6d3fda968450617826bfe85cca6e83e6f4019ac07f9e55c3ac0935d\n",
            "  Stored in directory: /root/.cache/pip/wheels/4c/af/ad/2b5021d20a1bf2bafb27df1df967d1bac36246c94e0d35ed4a\n",
            "  Building wheel for API (setup.py) ... \u001b[?25l\u001b[?25hdone\n",
            "  Created wheel for API: filename=api-0.0.7-py3-none-any.whl size=2326 sha256=a03fc288699cac08b317c5065109660e688539b98df6d1b48f82530646670ca1\n",
            "  Stored in directory: /root/.cache/pip/wheels/f4/38/af/83aa61fa8d7188f23479b75bbab8c2881f9887553e5d9fbb57\n",
            "Successfully built Speech API\n",
            "Installing collected packages: nose, Speech, API\n",
            "Successfully installed API-0.0.7 Speech-0.5.2 nose-1.3.7\n"
          ]
        }
      ]
    },
    {
      "cell_type": "code",
      "source": [
        "from youtube_search import YoutubeSearch\n",
        "import webbrowser\n",
        "mysong=input('Xin moi ban chon bai hat:')\n",
        "print(mysong)\n",
        "result=YoutubeSearch(mysong,max_results=10).to_dict()\n",
        "url='https:/www.youtube.com'+result[0]['url_suffix']\n",
        "print(url)\n",
        "#webbrowser.open(url)\n",
        "#print('Bai hat yeu cau da duoc mo')"
      ],
      "metadata": {
        "colab": {
          "base_uri": "https://localhost:8080/"
        },
        "id": "JvrkcRUCIOJm",
        "outputId": "47a73f07-75ed-4591-de32-6a27a86dd9fd"
      },
      "execution_count": null,
      "outputs": [
        {
          "output_type": "stream",
          "name": "stdout",
          "text": [
            "Xin moi ban chon bai hat:Cuối cùng thì\n",
            "Cuối cùng thì\n",
            "https:/www.youtube.com/watch?v=red9YvYlPWg\n"
          ]
        }
      ]
    },
    {
      "cell_type": "code",
      "source": [
        "filename = '/content/english.wav'\n",
        "import speech_recognition as sr\n",
        "r = sr.Recognizer()\n",
        "with sr.AudioFile(filename) as sowrce:\n",
        "  audio_data = r.record(sowrce)\n",
        "text = r.recognize_google(audio_data)\n",
        "print(text)"
      ],
      "metadata": {
        "colab": {
          "base_uri": "https://localhost:8080/"
        },
        "id": "yqPw_o88N_sh",
        "outputId": "28fa3052-7b28-40bf-f441-4c717ab7c2e3"
      },
      "execution_count": null,
      "outputs": [
        {
          "output_type": "stream",
          "name": "stdout",
          "text": [
            "in Indonesia a magnitude 5.6 earthquake strikes West Java killing at least 162 people in China officials in Guangzhou suspend public transportation and require people to be clear of covid-19 before they can leave their homes in New Zealand the Prime Minister says lawmakers will vote on whether to lower the National voting age from 18 to 16 years of age and at the World Cup in Qatar Iranian soccer players choose not to sing their national song in an apparent show of support for protesters back in Iran\n"
          ]
        }
      ]
    },
    {
      "cell_type": "code",
      "source": [
        "!pip install googletrans==3.1.0a0"
      ],
      "metadata": {
        "colab": {
          "base_uri": "https://localhost:8080/"
        },
        "id": "Takkqt2EWt59",
        "outputId": "653cec2c-8d5a-42c9-b7ef-9c57867c432c"
      },
      "execution_count": null,
      "outputs": [
        {
          "output_type": "stream",
          "name": "stdout",
          "text": [
            "Looking in indexes: https://pypi.org/simple, https://us-python.pkg.dev/colab-wheels/public/simple/\n",
            "Collecting googletrans==3.1.0a0\n",
            "  Downloading googletrans-3.1.0a0.tar.gz (19 kB)\n",
            "Collecting httpx==0.13.3\n",
            "  Downloading httpx-0.13.3-py3-none-any.whl (55 kB)\n",
            "\u001b[K     |████████████████████████████████| 55 kB 2.5 MB/s \n",
            "\u001b[?25hCollecting hstspreload\n",
            "  Downloading hstspreload-2022.11.1-py3-none-any.whl (1.4 MB)\n",
            "\u001b[K     |████████████████████████████████| 1.4 MB 10.0 MB/s \n",
            "\u001b[?25hCollecting sniffio\n",
            "  Downloading sniffio-1.3.0-py3-none-any.whl (10 kB)\n",
            "Requirement already satisfied: chardet==3.* in /usr/local/lib/python3.7/dist-packages (from httpx==0.13.3->googletrans==3.1.0a0) (3.0.4)\n",
            "Requirement already satisfied: certifi in /usr/local/lib/python3.7/dist-packages (from httpx==0.13.3->googletrans==3.1.0a0) (2022.9.24)\n",
            "Collecting rfc3986<2,>=1.3\n",
            "  Downloading rfc3986-1.5.0-py2.py3-none-any.whl (31 kB)\n",
            "Collecting httpcore==0.9.*\n",
            "  Downloading httpcore-0.9.1-py3-none-any.whl (42 kB)\n",
            "\u001b[K     |████████████████████████████████| 42 kB 1.5 MB/s \n",
            "\u001b[?25hRequirement already satisfied: idna==2.* in /usr/local/lib/python3.7/dist-packages (from httpx==0.13.3->googletrans==3.1.0a0) (2.10)\n",
            "Collecting h2==3.*\n",
            "  Downloading h2-3.2.0-py2.py3-none-any.whl (65 kB)\n",
            "\u001b[K     |████████████████████████████████| 65 kB 3.8 MB/s \n",
            "\u001b[?25hCollecting h11<0.10,>=0.8\n",
            "  Downloading h11-0.9.0-py2.py3-none-any.whl (53 kB)\n",
            "\u001b[K     |████████████████████████████████| 53 kB 2.2 MB/s \n",
            "\u001b[?25hCollecting hpack<4,>=3.0\n",
            "  Downloading hpack-3.0.0-py2.py3-none-any.whl (38 kB)\n",
            "Collecting hyperframe<6,>=5.2.0\n",
            "  Downloading hyperframe-5.2.0-py2.py3-none-any.whl (12 kB)\n",
            "Building wheels for collected packages: googletrans\n",
            "  Building wheel for googletrans (setup.py) ... \u001b[?25l\u001b[?25hdone\n",
            "  Created wheel for googletrans: filename=googletrans-3.1.0a0-py3-none-any.whl size=16368 sha256=1a05efc0f4e2df7d75ebac5a0eff40e373bcbafe93632a353890d8279b287c84\n",
            "  Stored in directory: /root/.cache/pip/wheels/0c/be/fe/93a6a40ffe386e16089e44dad9018ebab9dc4cb9eb7eab65ae\n",
            "Successfully built googletrans\n",
            "Installing collected packages: hyperframe, hpack, sniffio, h2, h11, rfc3986, httpcore, hstspreload, httpx, googletrans\n",
            "Successfully installed googletrans-3.1.0a0 h11-0.9.0 h2-3.2.0 hpack-3.0.0 hstspreload-2022.11.1 httpcore-0.9.1 httpx-0.13.3 hyperframe-5.2.0 rfc3986-1.5.0 sniffio-1.3.0\n"
          ]
        }
      ]
    },
    {
      "cell_type": "code",
      "source": [
        "!pip install gTTS"
      ],
      "metadata": {
        "colab": {
          "base_uri": "https://localhost:8080/",
          "height": 731
        },
        "id": "Yf5eX28Ic0ZQ",
        "outputId": "05f0a9a3-35b6-4a9c-dcb2-99467509318a"
      },
      "execution_count": null,
      "outputs": [
        {
          "output_type": "stream",
          "name": "stdout",
          "text": [
            "Looking in indexes: https://pypi.org/simple, https://us-python.pkg.dev/colab-wheels/public/simple/\n",
            "Collecting gTTS\n",
            "  Downloading gTTS-2.3.0-py3-none-any.whl (26 kB)\n",
            "Collecting click~=8.1.3\n",
            "  Downloading click-8.1.3-py3-none-any.whl (96 kB)\n",
            "\u001b[K     |████████████████████████████████| 96 kB 3.7 MB/s \n",
            "\u001b[?25hCollecting requests~=2.28.0\n",
            "  Downloading requests-2.28.1-py3-none-any.whl (62 kB)\n",
            "\u001b[K     |████████████████████████████████| 62 kB 1.6 MB/s \n",
            "\u001b[?25hCollecting six~=1.16.0\n",
            "  Downloading six-1.16.0-py2.py3-none-any.whl (11 kB)\n",
            "Requirement already satisfied: importlib-metadata in /usr/local/lib/python3.7/dist-packages (from click~=8.1.3->gTTS) (4.13.0)\n",
            "Requirement already satisfied: urllib3<1.27,>=1.21.1 in /usr/local/lib/python3.7/dist-packages (from requests~=2.28.0->gTTS) (1.24.3)\n",
            "Requirement already satisfied: idna<4,>=2.5 in /usr/local/lib/python3.7/dist-packages (from requests~=2.28.0->gTTS) (2.10)\n",
            "Requirement already satisfied: charset-normalizer<3,>=2 in /usr/local/lib/python3.7/dist-packages (from requests~=2.28.0->gTTS) (2.1.1)\n",
            "Requirement already satisfied: certifi>=2017.4.17 in /usr/local/lib/python3.7/dist-packages (from requests~=2.28.0->gTTS) (2022.9.24)\n",
            "Requirement already satisfied: typing-extensions>=3.6.4 in /usr/local/lib/python3.7/dist-packages (from importlib-metadata->click~=8.1.3->gTTS) (4.1.1)\n",
            "Requirement already satisfied: zipp>=0.5 in /usr/local/lib/python3.7/dist-packages (from importlib-metadata->click~=8.1.3->gTTS) (3.10.0)\n",
            "Installing collected packages: six, requests, click, gTTS\n",
            "  Attempting uninstall: six\n",
            "    Found existing installation: six 1.15.0\n",
            "    Uninstalling six-1.15.0:\n",
            "      Successfully uninstalled six-1.15.0\n",
            "  Attempting uninstall: requests\n",
            "    Found existing installation: requests 2.23.0\n",
            "    Uninstalling requests-2.23.0:\n",
            "      Successfully uninstalled requests-2.23.0\n",
            "  Attempting uninstall: click\n",
            "    Found existing installation: click 7.1.2\n",
            "    Uninstalling click-7.1.2:\n",
            "      Successfully uninstalled click-7.1.2\n",
            "\u001b[31mERROR: pip's dependency resolver does not currently take into account all the packages that are installed. This behaviour is the source of the following dependency conflicts.\n",
            "ipython 7.9.0 requires jedi>=0.10, which is not installed.\n",
            "flask 1.1.4 requires click<8.0,>=5.1, but you have click 8.1.3 which is incompatible.\u001b[0m\n",
            "Successfully installed click-8.1.3 gTTS-2.3.0 requests-2.28.1 six-1.16.0\n"
          ]
        },
        {
          "output_type": "display_data",
          "data": {
            "application/vnd.colab-display-data+json": {
              "pip_warning": {
                "packages": [
                  "requests",
                  "six"
                ]
              }
            }
          },
          "metadata": {}
        }
      ]
    },
    {
      "cell_type": "code",
      "source": [
        "filename = '/content/2.wav'\n",
        "import speech_recognition as sr\n",
        "r = sr.Recognizer()\n",
        "with sr.AudioFile(filename) as sowrce:\n",
        "  audio_data = r.record(sowrce,offset=5, duration= 60)\n",
        "text = r.recognize_google(audio_data, language='vi-VI')\n",
        "print(text)"
      ],
      "metadata": {
        "colab": {
          "base_uri": "https://localhost:8080/"
        },
        "id": "j5gJGp-dUB2S",
        "outputId": "446e765b-5fef-404d-c802-9e0ef70c6bd8"
      },
      "execution_count": null,
      "outputs": [
        {
          "output_type": "stream",
          "name": "stdout",
          "text": [
            "lúc này đã được bộ y tế công bố trong bản tin sáng nay bên ngân 16078 bệnh nhân nữ 68 tuổi Mùi xã từ ruộng đồng huyện Châu Thành của tỉnh Đồng Tháp ngày 28 tháng 6 thì bệnh nhân đến khám bệnh tại trung tâm y tế thành phố Vĩnh Long dưới nước sang lộc phát nhanh kháng nguyên dương tính với virus covid 2 với x được phân lượng cách đi Ngay sau khi có kết quả test nhanh trung tâm kiểm soát bệnh tật tỉnh đã tiến hành lấy mẫu xét nghiệm Real Time pcr kết quả dương tính với virus SARS cov-2 trong đó có f1 là chồng của bệnh x do 6 F1 trong tỉnh được cách ly tại trung tâm y tế thành phố Vĩnh Long cơ sở 1 và cơ sở 2 cho tất cả mấy trường hợp F1 này đã có kết quả xét nghiệm pcr lần 1 âm tính với virus của B 2n = 24 trường hợp F2 đã tiến hành cách ly tại nhà nơi lưu trú theo quy định trong y tế Vĩnh Long cũng cả thông báo cho trung tâm kiểm soát bệnh\n"
          ]
        }
      ]
    },
    {
      "cell_type": "code",
      "source": [
        "from playsound import playsound\n",
        "import speech_recognition as sr\n",
        "from gtts import gTTS\n",
        "import os\n",
        "A = 'Khẩu trang hương quýt chống say xe là sự kết hợp giữa khẩu trang y tế và tinh dầu quýt. Ưu điểm của sản phẩm là giúp khử được mùi xe, giúp giảm stress, thư giãn, hạn chế biểu hiện say xe, không cần dùng thuốc, tốt cho sức khỏe.'\n",
        "speak = gTTS (text = A, lang = 'vi', slow = False)\n",
        "speak.save('test.mp3')\n",
        "print(A)\n"
      ],
      "metadata": {
        "colab": {
          "base_uri": "https://localhost:8080/"
        },
        "id": "mRypHKmfchQw",
        "outputId": "81cd787f-a27a-42b1-b979-cbba15fdc4c2"
      },
      "execution_count": null,
      "outputs": [
        {
          "output_type": "stream",
          "name": "stdout",
          "text": [
            "Khẩu trang hương quýt chống say xe là sự kết hợp giữa khẩu trang y tế và tinh dầu quýt. Ưu điểm của sản phẩm là giúp khử được mùi xe, giúp giảm stress, thư giãn, hạn chế biểu hiện say xe, không cần dùng thuốc, tốt cho sức khỏe.\n"
          ]
        }
      ]
    },
    {
      "cell_type": "code",
      "source": [
        "from googletrans import Translator\n",
        "A='Năm ấy chúng ta từng hẹn ước bên nhau em nhớ mà, nơi chốn đấy hoa mộng một chút mênh mông nhưng xót xa'\n",
        "translator=Translator()\n",
        "translation=translator.translate(A,dest='en')\n",
        "print(translation.text)"
      ],
      "metadata": {
        "colab": {
          "base_uri": "https://localhost:8080/"
        },
        "id": "RLc4VMYaaMSM",
        "outputId": "d8e763a0-36a5-461a-935b-e47d150342c5"
      },
      "execution_count": null,
      "outputs": [
        {
          "output_type": "stream",
          "name": "stdout",
          "text": [
            "That year we made a promise to be together, you remember, that place was a bit vast but sad\n"
          ]
        }
      ]
    },
    {
      "cell_type": "code",
      "source": [
        "filename = '/content/vu.wav'\n",
        "import speech_recognition as sr\n",
        "r = sr.Recognizer()\n",
        "with sr.AudioFile(filename) as sowrce:\n",
        "  audio_data = r.record(sowrce,offset=5, duration= 200)\n",
        "text = r.recognize_google(audio_data, language='vi')\n",
        "from googletrans import Translator\n",
        "translator = Translator()\n",
        "translation = translator.translate(text, dest ='en')\n",
        "from playsound import playsound\n",
        "import speech_recognition as sr\n",
        "from gtts import gTTS\n",
        "speak = gTTS (text = text, lang = 'en', slow = False)\n",
        "speak.save('test.mp3')\n",
        "print(translation.text)\n",
        "print(text)"
      ],
      "metadata": {
        "colab": {
          "base_uri": "https://localhost:8080/"
        },
        "id": "u4Nk10A5huXN",
        "outputId": "ab9b0479-a99a-4d63-80ae-189dcc321e56"
      },
      "execution_count": null,
      "outputs": [
        {
          "output_type": "stream",
          "name": "stdout",
          "text": [
            "I'm blue blue for a word of silence, I know a lot and I'm back for the season of love, pity for a lifetime of nostalgia for being so lonely, cold rain and cold Thanh Ky In the same life, who is bad for you to scold me for being sad and dreaming that time will stop for longer again to remember the cotton that I'm left with Whose life are you now in Lent or are you still crying alone like the time of the Cold Dew In the night your heart makes me the night you're winter looking for you I'm afraid I'll call within and I remember Khoi coffee is about to end when will you come back so lonely the rain falls on my heart so strange in your eyes I dream of time stopping to remember me with this great hour you are fast asleep you still I'm crying like a stream a1000 in the night my heart makes the autumn wind has passed\n",
            "tôi là màu xanh xanh cho một lời lặng im biết nhiều và tôi về cho mùa yêu xót xa cho một đời nhớ thương về cô đơn đến thế mưa rơi lạnh Thành Kỳ Cùng đời ai xấu cho anh mắng tôi buồn mơ thời gian dừng cho còn lại để nhớ bông còn lại tôi đời ai Giờ này em cho nam mùa chay hay là em còn đang khóc một mình như lần Sương Lạnh Trong đêm con tim em làm cho anh đêm em em mùa đông kiếm em em sợ đâu sẽ gọi trong vòng và tôi nhớ Khởi cà phê sắp tàn bên bao giờ là em sẽ về cô đơn đến thế mưa rơi lòng anh rất kỳ cục trong anh mắt tôi tôi ước mơ thời gian dừng lại để nhớ tôi với đại giờ này em đang ngủ say em còn đang khóc mình như dòng suối a1000 trong đêm con tim em làm gió mùa thu đã đi qua\n"
          ]
        }
      ]
    },
    {
      "cell_type": "code",
      "source": [
        "detection = translation.detect('tôi là người viết')\n",
        "print"
      ],
      "metadata": {
        "id": "89iYXlC7lAY_"
      },
      "execution_count": null,
      "outputs": []
    }
  ]
}